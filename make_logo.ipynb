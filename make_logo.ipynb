{
 "cells": [
  {
   "cell_type": "code",
   "execution_count": 4,
   "id": "6ea6e32b-dae6-442f-99e3-0d4436a882e1",
   "metadata": {},
   "outputs": [],
   "source": [
    "from PIL import Image\n",
    "import requests\n",
    "from io import BytesIO\n",
    "\n",
    "# URLs of the two logos\n",
    "url_left = \"http://1.bp.blogspot.com/-TLXkPxGfEZQ/UHmZ6wrGUfI/AAAAAAAAAxY/VKcrnbWCJrY/s1600/Observat%C3%B3rio+Nacional+-+ON.jpg\"\n",
    "url_right = \"https://tse3.mm.bing.net/th/id/OIP.dkPjsWzf2yJfoMq3ziBVsgHaH2?cb=iwp1&pid=Api\"\n",
    "\n",
    "# Load images from URLs\n",
    "img_left = Image.open(BytesIO(requests.get(url_left).content)).convert(\"RGB\")\n",
    "img_right = Image.open(BytesIO(requests.get(url_right).content)).convert(\"RGB\")\n",
    "\n",
    "# Resize both images to the same height\n",
    "target_height = min(img_left.height, img_right.height)\n",
    "img_left = img_left.resize((int(img_left.width * target_height / img_left.height), target_height))\n",
    "img_right = img_right.resize((int(img_right.width * target_height / img_right.height), target_height))\n",
    "\n",
    "# Crop half of each image\n",
    "half_left = img_left.crop((0, 0, img_left.width // 2, target_height))\n",
    "half_right = img_right.crop((img_right.width // 2, 0, img_right.width, target_height))\n",
    "\n",
    "# Resize right half to 90%\n",
    "new_width = int(half_right.width * 0.89)\n",
    "new_height = int(half_right.height * 0.89)\n",
    "half_right = half_right.resize((new_width, new_height))\n",
    "\n",
    "# Create a new blank canvas to paste both images\n",
    "combined_width = half_left.width + new_width\n",
    "combined_height = max(half_left.height, new_height)\n",
    "combined_image = Image.new(\"RGB\", (combined_width, combined_height), (255, 255, 255))\n",
    "\n",
    "# Paste images side-by-side (right one vertically centered)\n",
    "combined_image.paste(half_left, (0, 0))\n",
    "combined_image.paste(half_right, (half_left.width, (combined_height - new_height) // 2))\n",
    "\n",
    "# Save or show the result\n",
    "combined_image.save(\"combined_logo.jpg\")\n",
    "combined_image.show()\n"
   ]
  },
  {
   "cell_type": "code",
   "execution_count": null,
   "id": "f9ae59d4-5e59-4e4a-b98a-92e668ea9ffa",
   "metadata": {},
   "outputs": [],
   "source": []
  }
 ],
 "metadata": {
  "kernelspec": {
   "display_name": "Python 3 (ipykernel)",
   "language": "python",
   "name": "python3"
  },
  "language_info": {
   "codemirror_mode": {
    "name": "ipython",
    "version": 3
   },
   "file_extension": ".py",
   "mimetype": "text/x-python",
   "name": "python",
   "nbconvert_exporter": "python",
   "pygments_lexer": "ipython3",
   "version": "3.12.7"
  }
 },
 "nbformat": 4,
 "nbformat_minor": 5
}
